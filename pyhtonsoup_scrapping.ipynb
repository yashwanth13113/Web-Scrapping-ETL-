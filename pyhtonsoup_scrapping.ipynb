# 📌 Step 1: Import Required Libraries
import pandas as pd
from sklearn.linear_model import LinearRegression
from sklearn.model_selection import train_test_split
from sklearn.metrics import mean_squared_error
# 📌 Step 2: Load Dataset
df = pd.read_csv("healthy_diet_macros_by_height_weight.csv")

# Add a new column for water requirement
df["Water_L"] = df["Weight_kg"] * 0.035  

# Display first 5 rows
df.head()
# 📌 Step 3: Define Features (X) and Targets (y)
X = df[["Height_cm", "Weight_kg"]]
y = df[["Protein_g", "Carbs_g", "Fats_g", "Fiber_g", "Water_L"]]
# 📌 Step 4: Split into Training and Testing Data
X_train, X_test, y_train, y_test = train_test_split(
    X, y, test_size=0.2, random_state=42
)

X_train.shape, X_test.shape
# 📌 Step 5: Train Linear Regression Model
model = LinearRegression()
model.fit(X_train, y_train)
# 📌 Step 6: Evaluate Model Performance (Optional)
y_pred = model.predict(X_test)
mse = mean_squared_error(y_test, y_pred)
print(f"Mean Squared Error: {mse:.2f}")
# 📌 Step 7: Make a Prediction for a Sample Input
# Example input: Height = 13 cm, Weight = 73 kg
sample_input = pd.DataFrame([[13, 73]], columns=["Height_cm", "Weight_kg"])
sample_prediction = model.predict(sample_input)[0]

# Extract predictions
protein, carbs, fats, fiber, water = sample_prediction

# Calculate calories
calories = (protein * 4) + (carbs * 4) + (fats * 9)

# Print results
print(f"Predicted Protein (g): {protein:.2f}")
print(f"Predicted Carbs (g): {carbs:.2f}")
print(f"Predicted Fats (g): {fats:.2f}")
print(f"Predicted Fiber (g): {fiber:.2f}")
print(f"Predicted Water (L): {water:.2f}")
print(f"Estimated Calories (kcal): {calories:.2f}")
